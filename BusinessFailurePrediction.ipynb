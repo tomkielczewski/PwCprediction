{
 "metadata": {
  "language_info": {
   "codemirror_mode": {
    "name": "ipython",
    "version": 3
   },
   "file_extension": ".py",
   "mimetype": "text/x-python",
   "name": "python",
   "nbconvert_exporter": "python",
   "pygments_lexer": "ipython3",
   "version": "3.8.5"
  },
  "orig_nbformat": 2,
  "kernelspec": {
   "name": "python3",
   "display_name": "Python 3",
   "language": "python"
  }
 },
 "nbformat": 4,
 "nbformat_minor": 2,
 "cells": [
  {
   "source": [
    "SCENARIUSZ\n",
    "\n",
    "Firma PwC otrzymała od jednego z klientów zadanie wsparcia jej programu akceleracyjnego. Pierwszym\n",
    "etapem projektu ma być napisanie modułu dokonującego negatywnej selekcji kandydatów. Na podstawie\n",
    "danych z roku 2014 spreparowaliśmy zbior danych (dane zostały wybrane według ustalonych kryteriów)\n",
    "firm wraz z informacją czy firmie udało się przetrwać do 1.01.2016. Twoim zadaniem jest zbudowanie\n",
    "modelu predykcyjnego na podstawie tych danych. Masz określić prawdopodobieństwo, że dana firma\n",
    "upadnie w ciągu dwóch lat.\n",
    "\n",
    "Efekty swojej pracy podsumuj w formie zwięzłej prezentacji w języku angielskim (ok. 5 slajdów), której\n",
    "adresatem będzie menedżer odpowiedzialny za relacje z klientem. Prezentacja powinna obejmować\n",
    "kluczowe elementy Twojej pracy, m.in. opis analizy danych, metodologii, wyników modelu, rekomendacji,\n",
    "itp. Prezentację prześlij jako załącznik w formacie PDF.\n",
    "\n",
    "ZMIENNE\n",
    "\n",
    "- GEO - dane geograficzne (pochodzą z poprzedniego projektu, wykonywanego przez jedną z innych firm wielkiej czwórki),\n",
    "- SECTOR - typ działalności,\n",
    "- EMPLOYEES - liczba pracowników,\n",
    "- INCOME - przychód w 2014,\n",
    "- MARKETING_SPENDING - pieniądze wydane na marketing,\n",
    "- ACC_BEFORE - czy korzystała wcześniej z wsparcia akceleracyjnego,\n",
    "- PWC_PRESS_INDEX - wartość wyznaczonego przez dział PWC PRESS CONTACT indeksu pozytywnego przekazu w mediach,\n",
    "- FB_LIKES - ilość polubień na facebooku,\n",
    "- TWT_FOLLOWERS - followersi na Twitterze,\n",
    "- YEAR_FOUNDED - rok założenia,\n",
    "- EXP_CEO - lata doświadczenia prezesa na podstawie serwisu LinkedIn,\n",
    "- AREA - powierzchnia biura,\n",
    "- PWC_EMPLOYEES - ilość pracowników PwC wywodzących się z firmy,\n",
    "- CREDIT - wartość niespłaconych kredytów,\n",
    "- FLAG - informacja czy firma upadła do 1.01.2016 r."
   ],
   "cell_type": "markdown",
   "metadata": {}
  },
  {
   "cell_type": "code",
   "execution_count": 1,
   "metadata": {},
   "outputs": [],
   "source": [
    "import pandas as pd\n",
    "import matplotlib.pyplot as plt\n",
    "\n",
    "data = pd.read_csv('./acceleration_data.csv')\n",
    "# data"
   ]
  },
  {
   "source": [
    "Input data has issiue with quoting. Each column apart from \"ID\" is quoted twice, whitch makes reading geospacial data difficult. With default options pandas detected only one column. \n",
    "\n",
    "To fix this issiue data was exported to .csv file without adding quotes and then read again using first column as index."
   ],
   "cell_type": "markdown",
   "metadata": {}
  },
  {
   "cell_type": "code",
   "execution_count": 2,
   "metadata": {},
   "outputs": [],
   "source": [
    "data.to_csv('data.csv', index=False, sep='|', quoting=3, escapechar='|')\n",
    "data = pd.read_csv(\"./data.csv\", index_col=0)\n",
    "# data"
   ]
  },
  {
   "source": [
    "No columns seems to be irrelevant. \n",
    "\n",
    "Checked how many \"NaN\" values dataframe contains. On first glance only EXP_CEO column seemed to contain any."
   ],
   "cell_type": "markdown",
   "metadata": {}
  },
  {
   "cell_type": "code",
   "execution_count": 3,
   "metadata": {},
   "outputs": [
    {
     "output_type": "execute_result",
     "data": {
      "text/plain": [
       "                                            GEO      SECTOR  EMPLOYEES  \\\n",
       "ID                                                                       \n",
       "1      21.0017163707095  , 52.2314057981037             PUB          2   \n",
       "2      21.0068688148316  , 52.2332658119407             PUB          6   \n",
       "3        21.0746074383869  , 52.2790054865787            IT         27   \n",
       "4      21.0120824468674  , 52.2320822895085              IT          5   \n",
       "11      21.1978283467684  , 52.2189889051416             IT          4   \n",
       "...                                         ...         ...        ...   \n",
       "9985     21.0993971572514  , 52.2744166403217    RESTAURANT          4   \n",
       "9993   21.0254303761614  , 52.2280231507402             PUB          2   \n",
       "9994    21.1581620193655  , 52.2035076615214           CAFE          4   \n",
       "9996   21.0245139057341  , 52.2359749760199              IT          8   \n",
       "9997   21.0186472133435  , 52.2313234646758              IT         19   \n",
       "\n",
       "        INCOME  MARKETING_SPENDING  ACC_BEFORE  PWC_PRESS_INDEX  FB_LIKES  \\\n",
       "ID                                                                          \n",
       "1     150426.0                7964           0        -8.078335      1633   \n",
       "2     500078.0               30212           0        17.032851      6128   \n",
       "3     199767.0                4970           0        -7.321621       487   \n",
       "4     109200.0                7010           1         1.135431       661   \n",
       "11     80017.0                7598           0         1.213712       809   \n",
       "...        ...                 ...         ...              ...       ...   \n",
       "9985  190900.0                7910           0        -9.679458      1632   \n",
       "9993  150506.0                8076           0         7.943083      1670   \n",
       "9994  149732.0                8057           0        12.182820      1569   \n",
       "9996   79900.0                8980           0         0.974774       888   \n",
       "9997  336500.0               23940           0         4.389039      2383   \n",
       "\n",
       "      TWT_FOLLOWERS  YEAR_FOUNDED  EXP_CEO  AREA  PWC_EMPLOYEES  CREDIT  FLAG  \n",
       "ID                                                                             \n",
       "1               138          2010      NaN    32              0   19950     0  \n",
       "2               605          2011      NaN    44              1   45104     1  \n",
       "3               106          2005      NaN    83              0     499     0  \n",
       "4               116          2011      NaN    21              1       0     1  \n",
       "11              171          2010      NaN    82              0   19691     0  \n",
       "...             ...           ...      ...   ...            ...     ...   ...  \n",
       "9985            165          2000      NaN    29              2       0     1  \n",
       "9993            167          2007      NaN    32              0       0     0  \n",
       "9994            129          2010      NaN    26              0   14900     0  \n",
       "9996            180          2012      NaN    18              2    2004     1  \n",
       "9997            496          2006      NaN   202              5       0     1  \n",
       "\n",
       "[4397 rows x 15 columns]"
      ],
      "text/html": "<div>\n<style scoped>\n    .dataframe tbody tr th:only-of-type {\n        vertical-align: middle;\n    }\n\n    .dataframe tbody tr th {\n        vertical-align: top;\n    }\n\n    .dataframe thead th {\n        text-align: right;\n    }\n</style>\n<table border=\"1\" class=\"dataframe\">\n  <thead>\n    <tr style=\"text-align: right;\">\n      <th></th>\n      <th>GEO</th>\n      <th>SECTOR</th>\n      <th>EMPLOYEES</th>\n      <th>INCOME</th>\n      <th>MARKETING_SPENDING</th>\n      <th>ACC_BEFORE</th>\n      <th>PWC_PRESS_INDEX</th>\n      <th>FB_LIKES</th>\n      <th>TWT_FOLLOWERS</th>\n      <th>YEAR_FOUNDED</th>\n      <th>EXP_CEO</th>\n      <th>AREA</th>\n      <th>PWC_EMPLOYEES</th>\n      <th>CREDIT</th>\n      <th>FLAG</th>\n    </tr>\n    <tr>\n      <th>ID</th>\n      <th></th>\n      <th></th>\n      <th></th>\n      <th></th>\n      <th></th>\n      <th></th>\n      <th></th>\n      <th></th>\n      <th></th>\n      <th></th>\n      <th></th>\n      <th></th>\n      <th></th>\n      <th></th>\n      <th></th>\n    </tr>\n  </thead>\n  <tbody>\n    <tr>\n      <th>1</th>\n      <td>21.0017163707095  , 52.2314057981037</td>\n      <td>PUB</td>\n      <td>2</td>\n      <td>150426.0</td>\n      <td>7964</td>\n      <td>0</td>\n      <td>-8.078335</td>\n      <td>1633</td>\n      <td>138</td>\n      <td>2010</td>\n      <td>NaN</td>\n      <td>32</td>\n      <td>0</td>\n      <td>19950</td>\n      <td>0</td>\n    </tr>\n    <tr>\n      <th>2</th>\n      <td>21.0068688148316  , 52.2332658119407</td>\n      <td>PUB</td>\n      <td>6</td>\n      <td>500078.0</td>\n      <td>30212</td>\n      <td>0</td>\n      <td>17.032851</td>\n      <td>6128</td>\n      <td>605</td>\n      <td>2011</td>\n      <td>NaN</td>\n      <td>44</td>\n      <td>1</td>\n      <td>45104</td>\n      <td>1</td>\n    </tr>\n    <tr>\n      <th>3</th>\n      <td>21.0746074383869  , 52.2790054865787</td>\n      <td>IT</td>\n      <td>27</td>\n      <td>199767.0</td>\n      <td>4970</td>\n      <td>0</td>\n      <td>-7.321621</td>\n      <td>487</td>\n      <td>106</td>\n      <td>2005</td>\n      <td>NaN</td>\n      <td>83</td>\n      <td>0</td>\n      <td>499</td>\n      <td>0</td>\n    </tr>\n    <tr>\n      <th>4</th>\n      <td>21.0120824468674  , 52.2320822895085</td>\n      <td>IT</td>\n      <td>5</td>\n      <td>109200.0</td>\n      <td>7010</td>\n      <td>1</td>\n      <td>1.135431</td>\n      <td>661</td>\n      <td>116</td>\n      <td>2011</td>\n      <td>NaN</td>\n      <td>21</td>\n      <td>1</td>\n      <td>0</td>\n      <td>1</td>\n    </tr>\n    <tr>\n      <th>11</th>\n      <td>21.1978283467684  , 52.2189889051416</td>\n      <td>IT</td>\n      <td>4</td>\n      <td>80017.0</td>\n      <td>7598</td>\n      <td>0</td>\n      <td>1.213712</td>\n      <td>809</td>\n      <td>171</td>\n      <td>2010</td>\n      <td>NaN</td>\n      <td>82</td>\n      <td>0</td>\n      <td>19691</td>\n      <td>0</td>\n    </tr>\n    <tr>\n      <th>...</th>\n      <td>...</td>\n      <td>...</td>\n      <td>...</td>\n      <td>...</td>\n      <td>...</td>\n      <td>...</td>\n      <td>...</td>\n      <td>...</td>\n      <td>...</td>\n      <td>...</td>\n      <td>...</td>\n      <td>...</td>\n      <td>...</td>\n      <td>...</td>\n      <td>...</td>\n    </tr>\n    <tr>\n      <th>9985</th>\n      <td>21.0993971572514  , 52.2744166403217</td>\n      <td>RESTAURANT</td>\n      <td>4</td>\n      <td>190900.0</td>\n      <td>7910</td>\n      <td>0</td>\n      <td>-9.679458</td>\n      <td>1632</td>\n      <td>165</td>\n      <td>2000</td>\n      <td>NaN</td>\n      <td>29</td>\n      <td>2</td>\n      <td>0</td>\n      <td>1</td>\n    </tr>\n    <tr>\n      <th>9993</th>\n      <td>21.0254303761614  , 52.2280231507402</td>\n      <td>PUB</td>\n      <td>2</td>\n      <td>150506.0</td>\n      <td>8076</td>\n      <td>0</td>\n      <td>7.943083</td>\n      <td>1670</td>\n      <td>167</td>\n      <td>2007</td>\n      <td>NaN</td>\n      <td>32</td>\n      <td>0</td>\n      <td>0</td>\n      <td>0</td>\n    </tr>\n    <tr>\n      <th>9994</th>\n      <td>21.1581620193655  , 52.2035076615214</td>\n      <td>CAFE</td>\n      <td>4</td>\n      <td>149732.0</td>\n      <td>8057</td>\n      <td>0</td>\n      <td>12.182820</td>\n      <td>1569</td>\n      <td>129</td>\n      <td>2010</td>\n      <td>NaN</td>\n      <td>26</td>\n      <td>0</td>\n      <td>14900</td>\n      <td>0</td>\n    </tr>\n    <tr>\n      <th>9996</th>\n      <td>21.0245139057341  , 52.2359749760199</td>\n      <td>IT</td>\n      <td>8</td>\n      <td>79900.0</td>\n      <td>8980</td>\n      <td>0</td>\n      <td>0.974774</td>\n      <td>888</td>\n      <td>180</td>\n      <td>2012</td>\n      <td>NaN</td>\n      <td>18</td>\n      <td>2</td>\n      <td>2004</td>\n      <td>1</td>\n    </tr>\n    <tr>\n      <th>9997</th>\n      <td>21.0186472133435  , 52.2313234646758</td>\n      <td>IT</td>\n      <td>19</td>\n      <td>336500.0</td>\n      <td>23940</td>\n      <td>0</td>\n      <td>4.389039</td>\n      <td>2383</td>\n      <td>496</td>\n      <td>2006</td>\n      <td>NaN</td>\n      <td>202</td>\n      <td>5</td>\n      <td>0</td>\n      <td>1</td>\n    </tr>\n  </tbody>\n</table>\n<p>4397 rows × 15 columns</p>\n</div>"
     },
     "metadata": {},
     "execution_count": 3
    }
   ],
   "source": [
    "data[data.isnull().any(axis=1)]"
   ]
  },
  {
   "source": [
    "Filled missing values with forward-fill method."
   ],
   "cell_type": "markdown",
   "metadata": {}
  },
  {
   "cell_type": "code",
   "execution_count": 4,
   "metadata": {},
   "outputs": [
    {
     "output_type": "execute_result",
     "data": {
      "text/plain": [
       "GEO                   0\n",
       "SECTOR                0\n",
       "EMPLOYEES             0\n",
       "INCOME                0\n",
       "MARKETING_SPENDING    0\n",
       "ACC_BEFORE            0\n",
       "PWC_PRESS_INDEX       0\n",
       "FB_LIKES              0\n",
       "TWT_FOLLOWERS         0\n",
       "YEAR_FOUNDED          0\n",
       "EXP_CEO               0\n",
       "AREA                  0\n",
       "PWC_EMPLOYEES         0\n",
       "CREDIT                0\n",
       "FLAG                  0\n",
       "dtype: int64"
      ]
     },
     "metadata": {},
     "execution_count": 4
    }
   ],
   "source": [
    "df = data.copy(deep=True)\n",
    "df.EXP_CEO = df.EXP_CEO.fillna(method='bfill')\n",
    "# df[df.isnull().any(axis=1)]\n",
    "df.isnull().sum()"
   ]
  },
  {
   "source": [
    "Selected numerical columns to detect outliers."
   ],
   "cell_type": "markdown",
   "metadata": {}
  },
  {
   "cell_type": "code",
   "execution_count": 5,
   "metadata": {},
   "outputs": [
    {
     "output_type": "execute_result",
     "data": {
      "text/plain": [
       "['EMPLOYEES',\n",
       " 'INCOME',\n",
       " 'MARKETING_SPENDING',\n",
       " 'ACC_BEFORE',\n",
       " 'PWC_PRESS_INDEX',\n",
       " 'FB_LIKES',\n",
       " 'TWT_FOLLOWERS',\n",
       " 'YEAR_FOUNDED',\n",
       " 'EXP_CEO',\n",
       " 'AREA',\n",
       " 'PWC_EMPLOYEES',\n",
       " 'CREDIT']"
      ]
     },
     "metadata": {},
     "execution_count": 5
    }
   ],
   "source": [
    "numerical_columns = [col for col in df.columns if (df[col].dtype=='int64' or df[col].dtype=='float64') and col != 'FLAG']\n",
    "numerical_columns"
   ]
  },
  {
   "cell_type": "code",
   "execution_count": 6,
   "metadata": {},
   "outputs": [
    {
     "output_type": "execute_result",
     "data": {
      "text/plain": [
       "      EMPLOYEES       INCOME  MARKETING_SPENDING  ACC_BEFORE  PWC_PRESS_INDEX  \\\n",
       "min      1.0000    -900.0000            830.0000      0.0000       -38.793253   \n",
       "max     63.0000  647000.0000          68180.0000      1.0000        59.938575   \n",
       "mean    12.9563  232443.3755          13515.3352      0.3364        -0.681005   \n",
       "50%      5.0000  199734.0000           8038.0000      0.0000        -1.186027   \n",
       "\n",
       "       FB_LIKES  TWT_FOLLOWERS  YEAR_FOUNDED  EXP_CEO      AREA  \\\n",
       "min     91.0000        16.0000     1989.0000   1.0000   11.0000   \n",
       "max   6893.0000      1410.0000     2014.0000  21.0000  387.0000   \n",
       "mean  1919.4968       270.4765     2006.9072   6.6498   91.0146   \n",
       "50%   1223.0000       165.0000     2007.0000   6.0000   63.0000   \n",
       "\n",
       "      PWC_EMPLOYEES        CREDIT  \n",
       "min          0.0000 -9.830000e+03  \n",
       "max         15.0000  1.313101e+07  \n",
       "mean         1.5025  2.775444e+05  \n",
       "50%          1.0000  1.207000e+03  "
      ],
      "text/html": "<div>\n<style scoped>\n    .dataframe tbody tr th:only-of-type {\n        vertical-align: middle;\n    }\n\n    .dataframe tbody tr th {\n        vertical-align: top;\n    }\n\n    .dataframe thead th {\n        text-align: right;\n    }\n</style>\n<table border=\"1\" class=\"dataframe\">\n  <thead>\n    <tr style=\"text-align: right;\">\n      <th></th>\n      <th>EMPLOYEES</th>\n      <th>INCOME</th>\n      <th>MARKETING_SPENDING</th>\n      <th>ACC_BEFORE</th>\n      <th>PWC_PRESS_INDEX</th>\n      <th>FB_LIKES</th>\n      <th>TWT_FOLLOWERS</th>\n      <th>YEAR_FOUNDED</th>\n      <th>EXP_CEO</th>\n      <th>AREA</th>\n      <th>PWC_EMPLOYEES</th>\n      <th>CREDIT</th>\n    </tr>\n  </thead>\n  <tbody>\n    <tr>\n      <th>min</th>\n      <td>1.0000</td>\n      <td>-900.0000</td>\n      <td>830.0000</td>\n      <td>0.0000</td>\n      <td>-38.793253</td>\n      <td>91.0000</td>\n      <td>16.0000</td>\n      <td>1989.0000</td>\n      <td>1.0000</td>\n      <td>11.0000</td>\n      <td>0.0000</td>\n      <td>-9.830000e+03</td>\n    </tr>\n    <tr>\n      <th>max</th>\n      <td>63.0000</td>\n      <td>647000.0000</td>\n      <td>68180.0000</td>\n      <td>1.0000</td>\n      <td>59.938575</td>\n      <td>6893.0000</td>\n      <td>1410.0000</td>\n      <td>2014.0000</td>\n      <td>21.0000</td>\n      <td>387.0000</td>\n      <td>15.0000</td>\n      <td>1.313101e+07</td>\n    </tr>\n    <tr>\n      <th>mean</th>\n      <td>12.9563</td>\n      <td>232443.3755</td>\n      <td>13515.3352</td>\n      <td>0.3364</td>\n      <td>-0.681005</td>\n      <td>1919.4968</td>\n      <td>270.4765</td>\n      <td>2006.9072</td>\n      <td>6.6498</td>\n      <td>91.0146</td>\n      <td>1.5025</td>\n      <td>2.775444e+05</td>\n    </tr>\n    <tr>\n      <th>50%</th>\n      <td>5.0000</td>\n      <td>199734.0000</td>\n      <td>8038.0000</td>\n      <td>0.0000</td>\n      <td>-1.186027</td>\n      <td>1223.0000</td>\n      <td>165.0000</td>\n      <td>2007.0000</td>\n      <td>6.0000</td>\n      <td>63.0000</td>\n      <td>1.0000</td>\n      <td>1.207000e+03</td>\n    </tr>\n  </tbody>\n</table>\n</div>"
     },
     "metadata": {},
     "execution_count": 6
    }
   ],
   "source": [
    "df[numerical_columns].describe().loc[['min','max', 'mean','50%'],:]"
   ]
  },
  {
   "source": [
    "Negative debt was accepted on assumption that values presented in CREDIT column mean net debt.\n",
    "\n",
    "Since there is only one company with negative income it was deleted."
   ],
   "cell_type": "markdown",
   "metadata": {}
  },
  {
   "cell_type": "code",
   "execution_count": 7,
   "metadata": {},
   "outputs": [
    {
     "output_type": "execute_result",
     "data": {
      "text/plain": [
       "                                            GEO SECTOR  EMPLOYEES  INCOME  \\\n",
       "ID                                                                          \n",
       "7239   21.0040367239336  , 52.2360502686957         IT          5  -900.0   \n",
       "\n",
       "      MARKETING_SPENDING  ACC_BEFORE  PWC_PRESS_INDEX  FB_LIKES  \\\n",
       "ID                                                                \n",
       "7239               11030           1         2.435256      1113   \n",
       "\n",
       "      TWT_FOLLOWERS  YEAR_FOUNDED  EXP_CEO  AREA  PWC_EMPLOYEES  CREDIT  FLAG  \n",
       "ID                                                                             \n",
       "7239            230          2012      4.0    25              2       0     0  "
      ],
      "text/html": "<div>\n<style scoped>\n    .dataframe tbody tr th:only-of-type {\n        vertical-align: middle;\n    }\n\n    .dataframe tbody tr th {\n        vertical-align: top;\n    }\n\n    .dataframe thead th {\n        text-align: right;\n    }\n</style>\n<table border=\"1\" class=\"dataframe\">\n  <thead>\n    <tr style=\"text-align: right;\">\n      <th></th>\n      <th>GEO</th>\n      <th>SECTOR</th>\n      <th>EMPLOYEES</th>\n      <th>INCOME</th>\n      <th>MARKETING_SPENDING</th>\n      <th>ACC_BEFORE</th>\n      <th>PWC_PRESS_INDEX</th>\n      <th>FB_LIKES</th>\n      <th>TWT_FOLLOWERS</th>\n      <th>YEAR_FOUNDED</th>\n      <th>EXP_CEO</th>\n      <th>AREA</th>\n      <th>PWC_EMPLOYEES</th>\n      <th>CREDIT</th>\n      <th>FLAG</th>\n    </tr>\n    <tr>\n      <th>ID</th>\n      <th></th>\n      <th></th>\n      <th></th>\n      <th></th>\n      <th></th>\n      <th></th>\n      <th></th>\n      <th></th>\n      <th></th>\n      <th></th>\n      <th></th>\n      <th></th>\n      <th></th>\n      <th></th>\n      <th></th>\n    </tr>\n  </thead>\n  <tbody>\n    <tr>\n      <th>7239</th>\n      <td>21.0040367239336  , 52.2360502686957</td>\n      <td>IT</td>\n      <td>5</td>\n      <td>-900.0</td>\n      <td>11030</td>\n      <td>1</td>\n      <td>2.435256</td>\n      <td>1113</td>\n      <td>230</td>\n      <td>2012</td>\n      <td>4.0</td>\n      <td>25</td>\n      <td>2</td>\n      <td>0</td>\n      <td>0</td>\n    </tr>\n  </tbody>\n</table>\n</div>"
     },
     "metadata": {},
     "execution_count": 7
    }
   ],
   "source": [
    "df[df.INCOME == df.INCOME.min()]"
   ]
  },
  {
   "cell_type": "code",
   "execution_count": 8,
   "metadata": {},
   "outputs": [
    {
     "output_type": "execute_result",
     "data": {
      "text/plain": [
       "                                            GEO SECTOR  EMPLOYEES   INCOME  \\\n",
       "ID                                                                           \n",
       "8565   21.0140920062982  , 52.2275265593873         IT          5  11200.0   \n",
       "\n",
       "      MARKETING_SPENDING  ACC_BEFORE  PWC_PRESS_INDEX  FB_LIKES  \\\n",
       "ID                                                                \n",
       "8565                6020           0         0.857218       576   \n",
       "\n",
       "      TWT_FOLLOWERS  YEAR_FOUNDED  EXP_CEO  AREA  PWC_EMPLOYEES  CREDIT  FLAG  \n",
       "ID                                                                             \n",
       "8565            119          2012      4.0    19              2   -2997     0  "
      ],
      "text/html": "<div>\n<style scoped>\n    .dataframe tbody tr th:only-of-type {\n        vertical-align: middle;\n    }\n\n    .dataframe tbody tr th {\n        vertical-align: top;\n    }\n\n    .dataframe thead th {\n        text-align: right;\n    }\n</style>\n<table border=\"1\" class=\"dataframe\">\n  <thead>\n    <tr style=\"text-align: right;\">\n      <th></th>\n      <th>GEO</th>\n      <th>SECTOR</th>\n      <th>EMPLOYEES</th>\n      <th>INCOME</th>\n      <th>MARKETING_SPENDING</th>\n      <th>ACC_BEFORE</th>\n      <th>PWC_PRESS_INDEX</th>\n      <th>FB_LIKES</th>\n      <th>TWT_FOLLOWERS</th>\n      <th>YEAR_FOUNDED</th>\n      <th>EXP_CEO</th>\n      <th>AREA</th>\n      <th>PWC_EMPLOYEES</th>\n      <th>CREDIT</th>\n      <th>FLAG</th>\n    </tr>\n    <tr>\n      <th>ID</th>\n      <th></th>\n      <th></th>\n      <th></th>\n      <th></th>\n      <th></th>\n      <th></th>\n      <th></th>\n      <th></th>\n      <th></th>\n      <th></th>\n      <th></th>\n      <th></th>\n      <th></th>\n      <th></th>\n      <th></th>\n    </tr>\n  </thead>\n  <tbody>\n    <tr>\n      <th>8565</th>\n      <td>21.0140920062982  , 52.2275265593873</td>\n      <td>IT</td>\n      <td>5</td>\n      <td>11200.0</td>\n      <td>6020</td>\n      <td>0</td>\n      <td>0.857218</td>\n      <td>576</td>\n      <td>119</td>\n      <td>2012</td>\n      <td>4.0</td>\n      <td>19</td>\n      <td>2</td>\n      <td>-2997</td>\n      <td>0</td>\n    </tr>\n  </tbody>\n</table>\n</div>"
     },
     "metadata": {},
     "execution_count": 8
    }
   ],
   "source": [
    "df = df.drop(df[df.INCOME == df.INCOME.min()].index)\n",
    "df[df.INCOME == df.INCOME.min()]"
   ]
  },
  {
   "source": [
    "Coordinates "
   ],
   "cell_type": "markdown",
   "metadata": {}
  },
  {
   "cell_type": "code",
   "execution_count": 9,
   "metadata": {},
   "outputs": [],
   "source": [
    "# df.GEO.to_csv('geo.csv')\n",
    "df.GEO.to_csv('geo.csv', index=False, sep='|', quoting=3, escapechar='|')\n"
   ]
  },
  {
   "cell_type": "code",
   "execution_count": 10,
   "metadata": {},
   "outputs": [],
   "source": [
    "geo = pd.read_csv('./geo.csv')\n",
    "geo.to_csv('geo.csv')"
   ]
  },
  {
   "cell_type": "code",
   "execution_count": 11,
   "metadata": {},
   "outputs": [],
   "source": [
    "\n",
    "# plt.scatter(geo.x, geo.y)\n",
    "# plt.show()"
   ]
  },
  {
   "cell_type": "code",
   "execution_count": 12,
   "metadata": {},
   "outputs": [
    {
     "output_type": "execute_result",
     "data": {
      "text/plain": [
       "                                             GEO SECTOR  EMPLOYEES    INCOME  \\\n",
       "ID                                                                             \n",
       "1       21.0017163707095  , 52.2314057981037        PUB          2  150426.0   \n",
       "2       21.0068688148316  , 52.2332658119407        PUB          6  500078.0   \n",
       "3         21.0746074383869  , 52.2790054865787       IT         27  199767.0   \n",
       "4       21.0120824468674  , 52.2320822895085         IT          5  109200.0   \n",
       "5       21.0001250609641  , 52.2399573325692         IT          3  112200.0   \n",
       "...                                          ...    ...        ...       ...   \n",
       "9996    21.0245139057341  , 52.2359749760199         IT          8   79900.0   \n",
       "9997    21.0186472133435  , 52.2313234646758         IT         19  336500.0   \n",
       "9998      21.0660097305197  , 52.2955965697952       IT          3  200265.0   \n",
       "9999      21.0846834506607  , 52.2756593818404       IT         30  199951.0   \n",
       "10000    21.1981747928141  , 52.1826778258942        IT         55  272350.0   \n",
       "\n",
       "       MARKETING_SPENDING  ACC_BEFORE  PWC_PRESS_INDEX  FB_LIKES  \\\n",
       "ID                                                                 \n",
       "1                    7964           0        -8.078335      1633   \n",
       "2                   30212           0        17.032851      6128   \n",
       "3                    4970           0        -7.321621       487   \n",
       "4                    7010           1         1.135431       661   \n",
       "5                    9000           0         0.950873       926   \n",
       "...                   ...         ...              ...       ...   \n",
       "9996                 8980           0         0.974774       888   \n",
       "9997                23940           0         4.389039      2383   \n",
       "9998                 4981           1        -4.523559       502   \n",
       "9999                 4957           1        -3.898251       532   \n",
       "10000                9972           1        -2.169033      1011   \n",
       "\n",
       "       TWT_FOLLOWERS  YEAR_FOUNDED  EXP_CEO  AREA  PWC_EMPLOYEES  CREDIT  FLAG  \n",
       "ID                                                                              \n",
       "1                138          2010      5.0    32              0   19950     0  \n",
       "2                605          2011      5.0    44              1   45104     1  \n",
       "3                106          2005      5.0    83              0     499     0  \n",
       "4                116          2011      5.0    21              1       0     1  \n",
       "5                172          2012      5.0    23              0    -997     1  \n",
       "...              ...           ...      ...   ...            ...     ...   ...  \n",
       "9996             180          2012      5.0    18              2    2004     1  \n",
       "9997             496          2006      5.0   202              5       0     1  \n",
       "9998             109          2002      5.0    74              1     499     0  \n",
       "9999             101          2001      6.0    76              0    1000     1  \n",
       "10000            176          1999     13.0   339              4    1103     1  \n",
       "\n",
       "[9999 rows x 15 columns]"
      ],
      "text/html": "<div>\n<style scoped>\n    .dataframe tbody tr th:only-of-type {\n        vertical-align: middle;\n    }\n\n    .dataframe tbody tr th {\n        vertical-align: top;\n    }\n\n    .dataframe thead th {\n        text-align: right;\n    }\n</style>\n<table border=\"1\" class=\"dataframe\">\n  <thead>\n    <tr style=\"text-align: right;\">\n      <th></th>\n      <th>GEO</th>\n      <th>SECTOR</th>\n      <th>EMPLOYEES</th>\n      <th>INCOME</th>\n      <th>MARKETING_SPENDING</th>\n      <th>ACC_BEFORE</th>\n      <th>PWC_PRESS_INDEX</th>\n      <th>FB_LIKES</th>\n      <th>TWT_FOLLOWERS</th>\n      <th>YEAR_FOUNDED</th>\n      <th>EXP_CEO</th>\n      <th>AREA</th>\n      <th>PWC_EMPLOYEES</th>\n      <th>CREDIT</th>\n      <th>FLAG</th>\n    </tr>\n    <tr>\n      <th>ID</th>\n      <th></th>\n      <th></th>\n      <th></th>\n      <th></th>\n      <th></th>\n      <th></th>\n      <th></th>\n      <th></th>\n      <th></th>\n      <th></th>\n      <th></th>\n      <th></th>\n      <th></th>\n      <th></th>\n      <th></th>\n    </tr>\n  </thead>\n  <tbody>\n    <tr>\n      <th>1</th>\n      <td>21.0017163707095  , 52.2314057981037</td>\n      <td>PUB</td>\n      <td>2</td>\n      <td>150426.0</td>\n      <td>7964</td>\n      <td>0</td>\n      <td>-8.078335</td>\n      <td>1633</td>\n      <td>138</td>\n      <td>2010</td>\n      <td>5.0</td>\n      <td>32</td>\n      <td>0</td>\n      <td>19950</td>\n      <td>0</td>\n    </tr>\n    <tr>\n      <th>2</th>\n      <td>21.0068688148316  , 52.2332658119407</td>\n      <td>PUB</td>\n      <td>6</td>\n      <td>500078.0</td>\n      <td>30212</td>\n      <td>0</td>\n      <td>17.032851</td>\n      <td>6128</td>\n      <td>605</td>\n      <td>2011</td>\n      <td>5.0</td>\n      <td>44</td>\n      <td>1</td>\n      <td>45104</td>\n      <td>1</td>\n    </tr>\n    <tr>\n      <th>3</th>\n      <td>21.0746074383869  , 52.2790054865787</td>\n      <td>IT</td>\n      <td>27</td>\n      <td>199767.0</td>\n      <td>4970</td>\n      <td>0</td>\n      <td>-7.321621</td>\n      <td>487</td>\n      <td>106</td>\n      <td>2005</td>\n      <td>5.0</td>\n      <td>83</td>\n      <td>0</td>\n      <td>499</td>\n      <td>0</td>\n    </tr>\n    <tr>\n      <th>4</th>\n      <td>21.0120824468674  , 52.2320822895085</td>\n      <td>IT</td>\n      <td>5</td>\n      <td>109200.0</td>\n      <td>7010</td>\n      <td>1</td>\n      <td>1.135431</td>\n      <td>661</td>\n      <td>116</td>\n      <td>2011</td>\n      <td>5.0</td>\n      <td>21</td>\n      <td>1</td>\n      <td>0</td>\n      <td>1</td>\n    </tr>\n    <tr>\n      <th>5</th>\n      <td>21.0001250609641  , 52.2399573325692</td>\n      <td>IT</td>\n      <td>3</td>\n      <td>112200.0</td>\n      <td>9000</td>\n      <td>0</td>\n      <td>0.950873</td>\n      <td>926</td>\n      <td>172</td>\n      <td>2012</td>\n      <td>5.0</td>\n      <td>23</td>\n      <td>0</td>\n      <td>-997</td>\n      <td>1</td>\n    </tr>\n    <tr>\n      <th>...</th>\n      <td>...</td>\n      <td>...</td>\n      <td>...</td>\n      <td>...</td>\n      <td>...</td>\n      <td>...</td>\n      <td>...</td>\n      <td>...</td>\n      <td>...</td>\n      <td>...</td>\n      <td>...</td>\n      <td>...</td>\n      <td>...</td>\n      <td>...</td>\n      <td>...</td>\n    </tr>\n    <tr>\n      <th>9996</th>\n      <td>21.0245139057341  , 52.2359749760199</td>\n      <td>IT</td>\n      <td>8</td>\n      <td>79900.0</td>\n      <td>8980</td>\n      <td>0</td>\n      <td>0.974774</td>\n      <td>888</td>\n      <td>180</td>\n      <td>2012</td>\n      <td>5.0</td>\n      <td>18</td>\n      <td>2</td>\n      <td>2004</td>\n      <td>1</td>\n    </tr>\n    <tr>\n      <th>9997</th>\n      <td>21.0186472133435  , 52.2313234646758</td>\n      <td>IT</td>\n      <td>19</td>\n      <td>336500.0</td>\n      <td>23940</td>\n      <td>0</td>\n      <td>4.389039</td>\n      <td>2383</td>\n      <td>496</td>\n      <td>2006</td>\n      <td>5.0</td>\n      <td>202</td>\n      <td>5</td>\n      <td>0</td>\n      <td>1</td>\n    </tr>\n    <tr>\n      <th>9998</th>\n      <td>21.0660097305197  , 52.2955965697952</td>\n      <td>IT</td>\n      <td>3</td>\n      <td>200265.0</td>\n      <td>4981</td>\n      <td>1</td>\n      <td>-4.523559</td>\n      <td>502</td>\n      <td>109</td>\n      <td>2002</td>\n      <td>5.0</td>\n      <td>74</td>\n      <td>1</td>\n      <td>499</td>\n      <td>0</td>\n    </tr>\n    <tr>\n      <th>9999</th>\n      <td>21.0846834506607  , 52.2756593818404</td>\n      <td>IT</td>\n      <td>30</td>\n      <td>199951.0</td>\n      <td>4957</td>\n      <td>1</td>\n      <td>-3.898251</td>\n      <td>532</td>\n      <td>101</td>\n      <td>2001</td>\n      <td>6.0</td>\n      <td>76</td>\n      <td>0</td>\n      <td>1000</td>\n      <td>1</td>\n    </tr>\n    <tr>\n      <th>10000</th>\n      <td>21.1981747928141  , 52.1826778258942</td>\n      <td>IT</td>\n      <td>55</td>\n      <td>272350.0</td>\n      <td>9972</td>\n      <td>1</td>\n      <td>-2.169033</td>\n      <td>1011</td>\n      <td>176</td>\n      <td>1999</td>\n      <td>13.0</td>\n      <td>339</td>\n      <td>4</td>\n      <td>1103</td>\n      <td>1</td>\n    </tr>\n  </tbody>\n</table>\n<p>9999 rows × 15 columns</p>\n</div>"
     },
     "metadata": {},
     "execution_count": 12
    }
   ],
   "source": [
    "# df.drop(['GEO'], axis=1)\n",
    "df"
   ]
  },
  {
   "cell_type": "code",
   "execution_count": null,
   "metadata": {},
   "outputs": [],
   "source": []
  }
 ]
}